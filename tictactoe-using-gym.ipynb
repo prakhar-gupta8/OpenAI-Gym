{
 "cells": [
  {
   "cell_type": "code",
   "execution_count": 1,
   "id": "e13171e6",
   "metadata": {
    "execution": {
     "iopub.execute_input": "2025-05-22T19:24:25.420196Z",
     "iopub.status.busy": "2025-05-22T19:24:25.419803Z",
     "iopub.status.idle": "2025-05-22T19:24:26.583615Z",
     "shell.execute_reply": "2025-05-22T19:24:26.582240Z"
    },
    "papermill": {
     "duration": 1.170848,
     "end_time": "2025-05-22T19:24:26.585496",
     "exception": false,
     "start_time": "2025-05-22T19:24:25.414648",
     "status": "completed"
    },
    "tags": []
   },
   "outputs": [
    {
     "name": "stderr",
     "output_type": "stream",
     "text": [
      "/usr/local/lib/python3.11/dist-packages/gymnasium/envs/registration.py:596: UserWarning: \u001b[33mWARN: plugin: shimmy.registration:register_gymnasium_envs raised Traceback (most recent call last):\n",
      "  File \"/usr/local/lib/python3.11/dist-packages/gymnasium/envs/registration.py\", line 594, in load_plugin_envs\n",
      "    fn()\n",
      "  File \"/usr/local/lib/python3.11/dist-packages/shimmy/registration.py\", line 304, in register_gymnasium_envs\n",
      "    _register_atari_envs()\n",
      "  File \"/usr/local/lib/python3.11/dist-packages/shimmy/registration.py\", line 205, in _register_atari_envs\n",
      "    import ale_py\n",
      "  File \"/usr/local/lib/python3.11/dist-packages/ale_py/__init__.py\", line 68, in <module>\n",
      "    register_v0_v4_envs()\n",
      "  File \"/usr/local/lib/python3.11/dist-packages/ale_py/registration.py\", line 179, in register_v0_v4_envs\n",
      "    _register_rom_configs(legacy_games, obs_types, versions)\n",
      "  File \"/usr/local/lib/python3.11/dist-packages/ale_py/registration.py\", line 64, in _register_rom_configs\n",
      "    gymnasium.register(\n",
      "    ^^^^^^^^^^^^^^^^^^\n",
      "AttributeError: partially initialized module 'gymnasium' has no attribute 'register' (most likely due to a circular import)\n",
      "\u001b[0m\n",
      "  logger.warn(f\"plugin: {plugin.value} raised {traceback.format_exc()}\")\n"
     ]
    }
   ],
   "source": [
    "import gymnasium as gym\n",
    "import numpy as np\n",
    "from gymnasium import spaces"
   ]
  },
  {
   "cell_type": "code",
   "execution_count": 2,
   "id": "b2302f85",
   "metadata": {
    "execution": {
     "iopub.execute_input": "2025-05-22T19:24:26.595266Z",
     "iopub.status.busy": "2025-05-22T19:24:26.594955Z",
     "iopub.status.idle": "2025-05-22T19:24:26.607575Z",
     "shell.execute_reply": "2025-05-22T19:24:26.606598Z"
    },
    "papermill": {
     "duration": 0.019116,
     "end_time": "2025-05-22T19:24:26.609105",
     "exception": false,
     "start_time": "2025-05-22T19:24:26.589989",
     "status": "completed"
    },
    "tags": []
   },
   "outputs": [],
   "source": [
    "class tictactoe(gym.Env):\n",
    "    def __init__(self):\n",
    "        super().__init__()\n",
    "        self.observation_space = spaces.Box(low = 0, high = 2, shape = (3,3), dtype = np.int32)\n",
    "        self.action_space = spaces.Discrete(9)\n",
    "        self.win_reward = 1\n",
    "        self.lose_reward = -1\n",
    "        self.draw_reward = 0\n",
    "        \n",
    "        self.observation = np.zeros(shape = (3,3), dtype = np.int32)\n",
    "        self.player = 1\n",
    "        self.terminated = False\n",
    "        self.truncated = False\n",
    "\n",
    "        \n",
    "    def reset(self):\n",
    "        self.observation = np.zeros(shape = (3,3), dtype = np.int32)\n",
    "        self.player = 1\n",
    "        self.terminated = False\n",
    "        self.truncated = False\n",
    "        return self.observation\n",
    "\n",
    "    def check(self,observation, player):\n",
    "        finish = True\n",
    "        for i in range(3):\n",
    "            for j in range(3):\n",
    "                if observation[i][j] == 0:\n",
    "                    finish = False\n",
    "                    break\n",
    "            if not finish:\n",
    "                break\n",
    "\n",
    "        won = True\n",
    "        for i in range(3):\n",
    "            won = True\n",
    "            for j in range(3):\n",
    "                if observation[i][j] != player:\n",
    "                    won = False\n",
    "                    break\n",
    "            if won:\n",
    "                return self.win_reward, True\n",
    "\n",
    "        for i in range(3):\n",
    "            won = True\n",
    "            for j in range(3):\n",
    "                if observation[j][i] != player:\n",
    "                    won = False\n",
    "                    break\n",
    "            if won:\n",
    "                return self.win_reward, True\n",
    "\n",
    "        won = True\n",
    "        for i in range(3):\n",
    "            if observation[i][i] != player:\n",
    "                won = False\n",
    "                break\n",
    "        if won:\n",
    "            return self.win_reward, True\n",
    "        won = True\n",
    "        for i in range(3):\n",
    "            if observation[i][2-i] != player:\n",
    "                won = False\n",
    "                break\n",
    "        if won:\n",
    "            return self.win_reward, True\n",
    "\n",
    "        if finish:\n",
    "            return 0, True\n",
    "        else:\n",
    "            return 0, False\n",
    "    \n",
    "\n",
    "    def step(self,action):\n",
    "        if self.observation[action//3][action%3] != 0:\n",
    "            self.truncated = True\n",
    "            self.terminated = True\n",
    "        self.observation[action//3][action%3] = self.player\n",
    "\n",
    "        reward, done = self.check(self.observation, self.player)\n",
    "        self.player=self.player%2+1\n",
    "        if done:\n",
    "            self.truncated = True\n",
    "            self.terminated = True\n",
    "        return self.observation, reward, self.truncated, self.terminated,"
   ]
  },
  {
   "cell_type": "code",
   "execution_count": 3,
   "id": "1406ed5a",
   "metadata": {
    "execution": {
     "iopub.execute_input": "2025-05-22T19:24:26.617608Z",
     "iopub.status.busy": "2025-05-22T19:24:26.617264Z",
     "iopub.status.idle": "2025-05-22T19:24:26.622862Z",
     "shell.execute_reply": "2025-05-22T19:24:26.621925Z"
    },
    "papermill": {
     "duration": 0.012077,
     "end_time": "2025-05-22T19:24:26.624833",
     "exception": false,
     "start_time": "2025-05-22T19:24:26.612756",
     "status": "completed"
    },
    "tags": []
   },
   "outputs": [],
   "source": [
    "class random_agent():\n",
    "    def action(self,env):\n",
    "        observation = env.observation\n",
    "        possible_actions = []\n",
    "        for i in range(9):\n",
    "            if observation[i//3][i%3] == 0:\n",
    "                possible_actions.append(i)\n",
    "        return random.choice(possible_actions)\n",
    "\n",
    "\n"
   ]
  },
  {
   "cell_type": "markdown",
   "id": "bf04b794",
   "metadata": {
    "papermill": {
     "duration": 0.003138,
     "end_time": "2025-05-22T19:24:26.631720",
     "exception": false,
     "start_time": "2025-05-22T19:24:26.628582",
     "status": "completed"
    },
    "tags": []
   },
   "source": [
    "In the code below, two random agents play the game, and their score is published at the end."
   ]
  },
  {
   "cell_type": "code",
   "execution_count": 4,
   "id": "cd7b498d",
   "metadata": {
    "_kg_hide-output": true,
    "execution": {
     "iopub.execute_input": "2025-05-22T19:24:26.640277Z",
     "iopub.status.busy": "2025-05-22T19:24:26.639962Z",
     "iopub.status.idle": "2025-05-22T19:24:26.660827Z",
     "shell.execute_reply": "2025-05-22T19:24:26.659550Z"
    },
    "papermill": {
     "duration": 0.027785,
     "end_time": "2025-05-22T19:24:26.662747",
     "exception": false,
     "start_time": "2025-05-22T19:24:26.634962",
     "status": "completed"
    },
    "tags": []
   },
   "outputs": [
    {
     "name": "stdout",
     "output_type": "stream",
     "text": [
      "[[0 2 2]\n",
      " [1 1 1]\n",
      " [2 1 0]] 1 player=1\n",
      "[[1 2 1]\n",
      " [2 2 1]\n",
      " [2 1 1]] 1 player=1\n",
      "[[2 2 2]\n",
      " [0 1 1]\n",
      " [1 1 2]] 1 player=2\n",
      "[[1 0 1]\n",
      " [2 2 2]\n",
      " [1 2 1]] 1 player=2\n",
      "[[1 2 1]\n",
      " [2 2 1]\n",
      " [2 1 1]] 1 player=1\n",
      "[[1 1 2]\n",
      " [2 2 1]\n",
      " [1 2 1]] 0 player=1\n",
      "[[2 2 1]\n",
      " [1 1 2]\n",
      " [1 1 2]] 1 player=1\n",
      "[[2 0 1]\n",
      " [2 1 1]\n",
      " [2 1 2]] 1 player=2\n",
      "[[0 2 1]\n",
      " [2 1 1]\n",
      " [1 2 0]] 1 player=1\n",
      "[[1 0 2]\n",
      " [2 1 1]\n",
      " [0 2 1]] 1 player=1\n",
      "Player 1 won 6 games. Player 2 won 3\n"
     ]
    }
   ],
   "source": [
    "import random\n",
    "env = tictactoe()\n",
    "\n",
    "player1 = random_agent()\n",
    "player2 = random_agent()\n",
    "\n",
    "score_player1 = 0\n",
    "score_player2 = 0\n",
    "for i in range(10):\n",
    "    done = False\n",
    "    env.reset()\n",
    "    while not done:\n",
    "        action = player1.action(env)\n",
    "        observation, reward, trunc, term = env.step(action)\n",
    "        if trunc:\n",
    "            done = True\n",
    "            score_player1+=reward\n",
    "            print(observation, reward, 'player=1')\n",
    "            break\n",
    "        action = player2.action(env)\n",
    "        observation, reward, trunc, term = env.step(action)\n",
    "        if trunc:\n",
    "            done = True\n",
    "            score_player2+=reward\n",
    "            print(observation, reward, 'player=2')\n",
    "print('Player 1 won',score_player1, 'games. Player 2 won', score_player2)"
   ]
  },
  {
   "cell_type": "code",
   "execution_count": 5,
   "id": "a6ced5b3",
   "metadata": {
    "execution": {
     "iopub.execute_input": "2025-05-22T19:24:26.671325Z",
     "iopub.status.busy": "2025-05-22T19:24:26.670963Z",
     "iopub.status.idle": "2025-05-22T19:24:26.678823Z",
     "shell.execute_reply": "2025-05-22T19:24:26.677817Z"
    },
    "papermill": {
     "duration": 0.014143,
     "end_time": "2025-05-22T19:24:26.680529",
     "exception": false,
     "start_time": "2025-05-22T19:24:26.666386",
     "status": "completed"
    },
    "tags": []
   },
   "outputs": [],
   "source": [
    "class Qlearner1():\n",
    "    def __init__(self):\n",
    "        self.Q_table = {}\n",
    "\n",
    "    def convert_to_tuple(self,observation):\n",
    "        return tuple(tuple(row) for row in observation.tolist())\n",
    "    def action(self,env):\n",
    "        observation = env.observation\n",
    "        observation= self.convert_to_tuple(observation)\n",
    "        if observation not in self.Q_table:\n",
    "            possible_actions = []\n",
    "            for i in range(9):\n",
    "                if observation[i//3][i%3] == 0:\n",
    "                    possible_actions.append(i)\n",
    "            self.Q_table[observation] = {action : 0 \n",
    "                                         for action in possible_actions}\n",
    "            return np.random.choice(possible_actions)\n",
    "        else:\n",
    "            max_Q_value = max(self.Q_table[observation].values())\n",
    "            possible_actions = []\n",
    "            for action in self.Q_table[observation]:\n",
    "                if self.Q_table[observation][action] == max_Q_value:\n",
    "                    possible_actions.append(action)\n",
    "            return np.random.choice(possible_actions)\n",
    "                # actions = list(self.Q_table[observation].keys())\n",
    "                # probs = np.array(list(self.Q_table[observation].values()))\n",
    "                # probs = np.exp(probs)\n",
    "                # total = sum(probs)\n",
    "                # probs = probs/total\n",
    "                # return np.random.choice(actions,p = probs)\n",
    "            \n",
    "            "
   ]
  },
  {
   "cell_type": "code",
   "execution_count": 6,
   "id": "6a832233",
   "metadata": {
    "execution": {
     "iopub.execute_input": "2025-05-22T19:24:26.689252Z",
     "iopub.status.busy": "2025-05-22T19:24:26.688403Z",
     "iopub.status.idle": "2025-05-22T19:24:26.696447Z",
     "shell.execute_reply": "2025-05-22T19:24:26.695381Z"
    },
    "papermill": {
     "duration": 0.014019,
     "end_time": "2025-05-22T19:24:26.698103",
     "exception": false,
     "start_time": "2025-05-22T19:24:26.684084",
     "status": "completed"
    },
    "tags": []
   },
   "outputs": [],
   "source": [
    "class Qlearner2():\n",
    "    def __init__(self):\n",
    "        self.Q_table = {}\n",
    "\n",
    "    def convert_to_tuple(self,observation):\n",
    "        return tuple(tuple(row) for row in observation.tolist())\n",
    "    def action(self,env):\n",
    "        observation = env.observation\n",
    "        observation= self.convert_to_tuple(observation)\n",
    "        if observation not in self.Q_table:\n",
    "            possible_actions = []\n",
    "            for i in range(9):\n",
    "                if observation[i//3][i%3] == 0:\n",
    "                    possible_actions.append(i)\n",
    "            self.Q_table[observation] = {action : 0 \n",
    "                                         for action in possible_actions}\n",
    "            return np.random.choice(possible_actions)\n",
    "        else:\n",
    "            max_Q_value = max(self.Q_table[observation].values())\n",
    "            possible_actions = []\n",
    "            for action in self.Q_table[observation]:\n",
    "                if self.Q_table[observation][action] == max_Q_value:\n",
    "                    possible_actions.append(action)\n",
    "            return np.random.choice(possible_actions)\n",
    "            # actions = list(self.Q_table[observation].keys())\n",
    "            # probs = np.array(list(self.Q_table[observation].values()))\n",
    "            # probs = np.exp(probs)\n",
    "            # total = sum(probs)\n",
    "            # probs = probs/total\n",
    "            # return np.random.choice(actions,p = probs)\n",
    "                "
   ]
  },
  {
   "cell_type": "code",
   "execution_count": 7,
   "id": "c631f4e5",
   "metadata": {
    "execution": {
     "iopub.execute_input": "2025-05-22T19:24:26.706661Z",
     "iopub.status.busy": "2025-05-22T19:24:26.706313Z",
     "iopub.status.idle": "2025-05-22T19:24:51.903312Z",
     "shell.execute_reply": "2025-05-22T19:24:51.902230Z"
    },
    "papermill": {
     "duration": 25.203597,
     "end_time": "2025-05-22T19:24:51.905265",
     "exception": false,
     "start_time": "2025-05-22T19:24:26.701668",
     "status": "completed"
    },
    "tags": []
   },
   "outputs": [],
   "source": [
    "lr = 0.1\n",
    "epsilon = 0.1\n",
    "player1 = Qlearner1()\n",
    "player2 = Qlearner2()\n",
    "env = tictactoe()\n",
    "done = False\n",
    "game_score = {0: 0 , 1 : 0, 2: 0}\n",
    "for i in range(50000):\n",
    "    done = False\n",
    "    env.reset()\n",
    "    player1_pairs = []\n",
    "    player2_pairs = []\n",
    "    while not done:\n",
    "        coin = np.random.random()\n",
    "        if coin<epsilon:\n",
    "            possible_actions = []\n",
    "            for action in range(9):\n",
    "                if env.observation[action//3][action%3] == 0:\n",
    "                    possible_actions.append(action)\n",
    "            action1 = np.random.choice(possible_actions)\n",
    "        else:\n",
    "            action1 = player1.action(env)\n",
    "        obs1 = player1.convert_to_tuple(env.observation)\n",
    "        player1_pairs.append((obs1,action1))\n",
    "        observation2, reward, done, _ = env.step(action1)\n",
    "        if done:    \n",
    "            if reward == 0:\n",
    "                winner = 0\n",
    "                game_score[0]+=1\n",
    "            else:\n",
    "                winner = 1\n",
    "                game_score[1]+=1\n",
    "            break\n",
    "        coin = np.random.random()\n",
    "        if coin<epsilon:\n",
    "            possible_actions = []\n",
    "            for action in range(9):\n",
    "                if env.observation[action//3][action%3] == 0:\n",
    "                    possible_actions.append(action)\n",
    "            action2 = np.random.choice(possible_actions)\n",
    "        else:\n",
    "            action2 = player2.action(env)\n",
    "        obs2 = player2.convert_to_tuple(env.observation)\n",
    "        player2_pairs.append((obs2,action2))\n",
    "        observation1, reward, done, _ = env.step(action2)\n",
    "        if done:\n",
    "            if reward == 0:\n",
    "                winner = 0\n",
    "                game_score[0]+=1\n",
    "            else:\n",
    "                winner = 2\n",
    "                game_score[2]+=1\n",
    "    if winner == 1:\n",
    "        for obs, action in player1_pairs:\n",
    "            if obs not in player1.Q_table:\n",
    "                possible_actions = []\n",
    "                for i in range(9):\n",
    "                    if obs[i//3][i%3] == 0:\n",
    "                        possible_actions.append(i)\n",
    "                player1.Q_table[obs] = {action : 0 \n",
    "                                             for action in possible_actions}\n",
    "            player1.Q_table[obs][action]+= lr*(1-player1.Q_table[obs][action])\n",
    "        for obs, action in player2_pairs:\n",
    "            if obs not in player2.Q_table:\n",
    "                possible_actions = []\n",
    "                for i in range(9):\n",
    "                    if obs[i//3][i%3] == 0:\n",
    "                        possible_actions.append(i)\n",
    "                player2.Q_table[obs] = {action : 0 \n",
    "                                             for action in possible_actions}\n",
    "\n",
    "            player2.Q_table[obs][action]+= lr*(-1-player2.Q_table[obs][action])\n",
    "    if winner == 2:\n",
    "        for obs, action in player1_pairs:\n",
    "            if obs not in player1.Q_table:\n",
    "                possible_actions = []\n",
    "                for i in range(9):\n",
    "                    if obs[i//3][i%3] == 0:\n",
    "                        possible_actions.append(i)\n",
    "                player1.Q_table[obs] = {action : 0 \n",
    "                                             for action in possible_actions}\n",
    "\n",
    "            player1.Q_table[obs][action]+= lr*(-1-player1.Q_table[obs][action])\n",
    "        for obs, action in player2_pairs:\n",
    "            if obs not in player2.Q_table:\n",
    "                possible_actions = []\n",
    "                for i in range(9):\n",
    "                    if obs[i//3][i%3] == 0:\n",
    "                        possible_actions.append(i)\n",
    "                player2.Q_table[obs] = {action : 0 \n",
    "                                             for action in possible_actions}\n",
    "\n",
    "            player2.Q_table[obs][action]+= lr*(1-player2.Q_table[obs][action])\n",
    "\n"
   ]
  },
  {
   "cell_type": "code",
   "execution_count": 8,
   "id": "2cdeca69",
   "metadata": {
    "execution": {
     "iopub.execute_input": "2025-05-22T19:24:51.913715Z",
     "iopub.status.busy": "2025-05-22T19:24:51.913313Z",
     "iopub.status.idle": "2025-05-22T19:24:51.918939Z",
     "shell.execute_reply": "2025-05-22T19:24:51.917918Z"
    },
    "papermill": {
     "duration": 0.011592,
     "end_time": "2025-05-22T19:24:51.920595",
     "exception": false,
     "start_time": "2025-05-22T19:24:51.909003",
     "status": "completed"
    },
    "tags": []
   },
   "outputs": [
    {
     "name": "stdout",
     "output_type": "stream",
     "text": [
      "{0: 29842, 1: 17239, 2: 2919}\n"
     ]
    }
   ],
   "source": [
    "print(game_score)"
   ]
  },
  {
   "cell_type": "code",
   "execution_count": 9,
   "id": "2f49e627",
   "metadata": {
    "execution": {
     "iopub.execute_input": "2025-05-22T19:24:51.929026Z",
     "iopub.status.busy": "2025-05-22T19:24:51.928708Z",
     "iopub.status.idle": "2025-05-22T19:24:52.376668Z",
     "shell.execute_reply": "2025-05-22T19:24:52.375479Z"
    },
    "papermill": {
     "duration": 0.454081,
     "end_time": "2025-05-22T19:24:52.378262",
     "exception": false,
     "start_time": "2025-05-22T19:24:51.924181",
     "status": "completed"
    },
    "tags": []
   },
   "outputs": [
    {
     "name": "stdout",
     "output_type": "stream",
     "text": [
      "Player 1 won 966 games. Player 2 won 0\n"
     ]
    }
   ],
   "source": [
    "import random\n",
    "env = tictactoe()\n",
    "\n",
    "random_player2 = random_agent()\n",
    "\n",
    "score_player1 = 0\n",
    "score_player2 = 0\n",
    "for i in range(1000):\n",
    "    done = False\n",
    "    env.reset()\n",
    "    while not done:\n",
    "        action = player1.action(env)\n",
    "        observation, reward, trunc, term = env.step(action)\n",
    "        if trunc:\n",
    "            done = True\n",
    "            score_player1+=reward\n",
    "            break\n",
    "        action = random_player2.action(env)\n",
    "        observation, reward, trunc, term = env.step(action)\n",
    "        if trunc:\n",
    "            done = True\n",
    "            score_player2+=reward\n",
    "print('Player 1 won',score_player1, 'games. Player 2 won', score_player2)"
   ]
  },
  {
   "cell_type": "markdown",
   "id": "2d9d4829",
   "metadata": {
    "papermill": {
     "duration": 0.003214,
     "end_time": "2025-05-22T19:24:52.385277",
     "exception": false,
     "start_time": "2025-05-22T19:24:52.382063",
     "status": "completed"
    },
    "tags": []
   },
   "source": [
    "Our Q_learner does better than random agent, but it's not perfect. How to make it perfect? "
   ]
  },
  {
   "cell_type": "code",
   "execution_count": 10,
   "id": "0c26ba68",
   "metadata": {
    "execution": {
     "iopub.execute_input": "2025-05-22T19:24:52.393542Z",
     "iopub.status.busy": "2025-05-22T19:24:52.393167Z",
     "iopub.status.idle": "2025-05-22T19:24:52.864890Z",
     "shell.execute_reply": "2025-05-22T19:24:52.863782Z"
    },
    "papermill": {
     "duration": 0.477738,
     "end_time": "2025-05-22T19:24:52.866389",
     "exception": false,
     "start_time": "2025-05-22T19:24:52.388651",
     "status": "completed"
    },
    "tags": []
   },
   "outputs": [
    {
     "name": "stdout",
     "output_type": "stream",
     "text": [
      "Player 1 won 6 games. Player 2 won 887\n"
     ]
    }
   ],
   "source": [
    "import random\n",
    "env = tictactoe()\n",
    "\n",
    "random_player1 = random_agent()\n",
    "\n",
    "score_player1 = 0\n",
    "score_player2 = 0\n",
    "for i in range(1000):\n",
    "    done = False\n",
    "    env.reset()\n",
    "    while not done:\n",
    "        action = random_player1.action(env)\n",
    "        observation, reward, trunc, term = env.step(action)\n",
    "        if trunc:\n",
    "            done = True\n",
    "            score_player1+=reward\n",
    "            break\n",
    "        action = player2.action(env)\n",
    "        observation, reward, trunc, term = env.step(action)\n",
    "        if trunc:\n",
    "            done = True\n",
    "            score_player2+=reward\n",
    "print('Player 1 won',score_player1, 'games. Player 2 won', score_player2)"
   ]
  },
  {
   "cell_type": "markdown",
   "id": "1593a0aa",
   "metadata": {
    "papermill": {
     "duration": 0.003626,
     "end_time": "2025-05-22T19:24:52.873692",
     "exception": false,
     "start_time": "2025-05-22T19:24:52.870066",
     "status": "completed"
    },
    "tags": []
   },
   "source": [
    "Thus using the Q-learning algorithm, we were able to train a simple model to learn to play Tic-Tac-Toe. \n",
    "\n",
    "The Q_learner 1 learned to play as Player 1, and it learns well enough that it always beats a random player. \n",
    "\n",
    "The Q_learner 2 also learned to play as Player 2 well enough, and is able to almost always beat the random agent. "
   ]
  },
  {
   "cell_type": "code",
   "execution_count": null,
   "id": "24f65436",
   "metadata": {
    "papermill": {
     "duration": 0.003329,
     "end_time": "2025-05-22T19:24:52.880641",
     "exception": false,
     "start_time": "2025-05-22T19:24:52.877312",
     "status": "completed"
    },
    "tags": []
   },
   "outputs": [],
   "source": []
  },
  {
   "cell_type": "code",
   "execution_count": null,
   "id": "864de2ec",
   "metadata": {
    "papermill": {
     "duration": 0.0031,
     "end_time": "2025-05-22T19:24:52.887154",
     "exception": false,
     "start_time": "2025-05-22T19:24:52.884054",
     "status": "completed"
    },
    "tags": []
   },
   "outputs": [],
   "source": []
  }
 ],
 "metadata": {
  "kaggle": {
   "accelerator": "none",
   "dataSources": [],
   "dockerImageVersionId": 31040,
   "isGpuEnabled": false,
   "isInternetEnabled": true,
   "language": "python",
   "sourceType": "notebook"
  },
  "kernelspec": {
   "display_name": "Python 3",
   "language": "python",
   "name": "python3"
  },
  "language_info": {
   "codemirror_mode": {
    "name": "ipython",
    "version": 3
   },
   "file_extension": ".py",
   "mimetype": "text/x-python",
   "name": "python",
   "nbconvert_exporter": "python",
   "pygments_lexer": "ipython3",
   "version": "3.11.11"
  },
  "papermill": {
   "default_parameters": {},
   "duration": 33.417439,
   "end_time": "2025-05-22T19:24:53.412032",
   "environment_variables": {},
   "exception": null,
   "input_path": "__notebook__.ipynb",
   "output_path": "__notebook__.ipynb",
   "parameters": {},
   "start_time": "2025-05-22T19:24:19.994593",
   "version": "2.6.0"
  }
 },
 "nbformat": 4,
 "nbformat_minor": 5
}
