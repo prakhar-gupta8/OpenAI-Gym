{
 "cells": [
  {
   "cell_type": "code",
   "execution_count": 1,
   "id": "3bb2d819",
   "metadata": {
    "execution": {
     "iopub.execute_input": "2025-05-22T12:47:22.776638Z",
     "iopub.status.busy": "2025-05-22T12:47:22.776285Z",
     "iopub.status.idle": "2025-05-22T12:47:24.099506Z",
     "shell.execute_reply": "2025-05-22T12:47:24.097608Z"
    },
    "papermill": {
     "duration": 1.331347,
     "end_time": "2025-05-22T12:47:24.102064",
     "exception": false,
     "start_time": "2025-05-22T12:47:22.770717",
     "status": "completed"
    },
    "tags": []
   },
   "outputs": [
    {
     "name": "stderr",
     "output_type": "stream",
     "text": [
      "/usr/local/lib/python3.11/dist-packages/gymnasium/envs/registration.py:596: UserWarning: \u001b[33mWARN: plugin: shimmy.registration:register_gymnasium_envs raised Traceback (most recent call last):\n",
      "  File \"/usr/local/lib/python3.11/dist-packages/gymnasium/envs/registration.py\", line 594, in load_plugin_envs\n",
      "    fn()\n",
      "  File \"/usr/local/lib/python3.11/dist-packages/shimmy/registration.py\", line 304, in register_gymnasium_envs\n",
      "    _register_atari_envs()\n",
      "  File \"/usr/local/lib/python3.11/dist-packages/shimmy/registration.py\", line 205, in _register_atari_envs\n",
      "    import ale_py\n",
      "  File \"/usr/local/lib/python3.11/dist-packages/ale_py/__init__.py\", line 68, in <module>\n",
      "    register_v0_v4_envs()\n",
      "  File \"/usr/local/lib/python3.11/dist-packages/ale_py/registration.py\", line 179, in register_v0_v4_envs\n",
      "    _register_rom_configs(legacy_games, obs_types, versions)\n",
      "  File \"/usr/local/lib/python3.11/dist-packages/ale_py/registration.py\", line 64, in _register_rom_configs\n",
      "    gymnasium.register(\n",
      "    ^^^^^^^^^^^^^^^^^^\n",
      "AttributeError: partially initialized module 'gymnasium' has no attribute 'register' (most likely due to a circular import)\n",
      "\u001b[0m\n",
      "  logger.warn(f\"plugin: {plugin.value} raised {traceback.format_exc()}\")\n"
     ]
    }
   ],
   "source": [
    "import gymnasium as gym\n",
    "import numpy as np\n",
    "from gymnasium import spaces"
   ]
  },
  {
   "cell_type": "code",
   "execution_count": 2,
   "id": "81e86f48",
   "metadata": {
    "execution": {
     "iopub.execute_input": "2025-05-22T12:47:24.112236Z",
     "iopub.status.busy": "2025-05-22T12:47:24.111089Z",
     "iopub.status.idle": "2025-05-22T12:47:24.127539Z",
     "shell.execute_reply": "2025-05-22T12:47:24.125779Z"
    },
    "papermill": {
     "duration": 0.023158,
     "end_time": "2025-05-22T12:47:24.129582",
     "exception": false,
     "start_time": "2025-05-22T12:47:24.106424",
     "status": "completed"
    },
    "tags": []
   },
   "outputs": [],
   "source": [
    "class tictactoe(gym.Env):\n",
    "    def __init__(self):\n",
    "        super().__init__()\n",
    "        self.observation_space = spaces.Box(low = 0, high = 2, shape = (3,3), dtype = np.int32)\n",
    "        self.action_space = spaces.Discrete(9)\n",
    "        self.win_reward = 1\n",
    "        self.lose_reward = -1\n",
    "        self.draw_reward = 0\n",
    "        \n",
    "        self.observation = np.zeros(shape = (3,3), dtype = np.int32)\n",
    "        self.player = 1\n",
    "        self.terminated = False\n",
    "        self.truncated = False\n",
    "\n",
    "        \n",
    "    def reset(self):\n",
    "        self.observation = np.zeros(shape = (3,3), dtype = np.int32)\n",
    "        self.player = 1\n",
    "        self.terminated = False\n",
    "        self.truncated = False\n",
    "        return self.observation\n",
    "\n",
    "    def check(self,observation, player):\n",
    "        finish = True\n",
    "        for i in range(3):\n",
    "            for j in range(3):\n",
    "                if observation[i][j] == 0:\n",
    "                    finish = False\n",
    "                    break\n",
    "            if not finish:\n",
    "                break\n",
    "\n",
    "        won = True\n",
    "        for i in range(3):\n",
    "            won = True\n",
    "            for j in range(3):\n",
    "                if observation[i][j] != player:\n",
    "                    won = False\n",
    "                    break\n",
    "            if won:\n",
    "                return self.win_reward, True\n",
    "\n",
    "        for i in range(3):\n",
    "            won = True\n",
    "            for j in range(3):\n",
    "                if observation[j][i] != player:\n",
    "                    won = False\n",
    "                    break\n",
    "            if won:\n",
    "                return self.win_reward, True\n",
    "\n",
    "        won = True\n",
    "        for i in range(3):\n",
    "            if observation[i][i] != player:\n",
    "                won = False\n",
    "                break\n",
    "        if won:\n",
    "            return self.win_reward, True\n",
    "\n",
    "        for i in range(3):\n",
    "            if observation[i][2-i] != player:\n",
    "                won = False\n",
    "                break\n",
    "        if won:\n",
    "            return self.win_reward, True\n",
    "\n",
    "        if finish:\n",
    "            return 0, True\n",
    "        else:\n",
    "            return 0, False\n",
    "    \n",
    "\n",
    "    def step(self,action):\n",
    "        if self.observation[action//3][action%3] != 0:\n",
    "            self.truncated = True\n",
    "            self.terminated = True\n",
    "        self.observation[action//3][action%3] = self.player\n",
    "\n",
    "        reward, done = self.check(self.observation, self.player)\n",
    "        self.player=self.player%2+1\n",
    "        if done:\n",
    "            self.truncated = True\n",
    "            self.terminated = True\n",
    "        return self.observation, reward, self.truncated, self.terminated,"
   ]
  },
  {
   "cell_type": "code",
   "execution_count": 3,
   "id": "dfcd6ac5",
   "metadata": {
    "execution": {
     "iopub.execute_input": "2025-05-22T12:47:24.138466Z",
     "iopub.status.busy": "2025-05-22T12:47:24.138096Z",
     "iopub.status.idle": "2025-05-22T12:47:24.143700Z",
     "shell.execute_reply": "2025-05-22T12:47:24.142708Z"
    },
    "papermill": {
     "duration": 0.011988,
     "end_time": "2025-05-22T12:47:24.145311",
     "exception": false,
     "start_time": "2025-05-22T12:47:24.133323",
     "status": "completed"
    },
    "tags": []
   },
   "outputs": [],
   "source": [
    "class random_agent():\n",
    "    def action(self,env):\n",
    "        observation = env.observation\n",
    "        possible_actions = []\n",
    "        for i in range(9):\n",
    "            if observation[i//3][i%3] == 0:\n",
    "                possible_actions.append(i)\n",
    "        return random.choice(possible_actions)\n",
    "\n",
    "\n"
   ]
  },
  {
   "cell_type": "markdown",
   "id": "bea71300",
   "metadata": {
    "papermill": {
     "duration": 0.004174,
     "end_time": "2025-05-22T12:47:24.153636",
     "exception": false,
     "start_time": "2025-05-22T12:47:24.149462",
     "status": "completed"
    },
    "tags": []
   },
   "source": [
    "In the code below, two random agents play the game, and their score is published at the end."
   ]
  },
  {
   "cell_type": "code",
   "execution_count": 4,
   "id": "a5c689eb",
   "metadata": {
    "_kg_hide-output": true,
    "execution": {
     "iopub.execute_input": "2025-05-22T12:47:24.162984Z",
     "iopub.status.busy": "2025-05-22T12:47:24.162546Z",
     "iopub.status.idle": "2025-05-22T12:47:24.182542Z",
     "shell.execute_reply": "2025-05-22T12:47:24.181068Z"
    },
    "papermill": {
     "duration": 0.028528,
     "end_time": "2025-05-22T12:47:24.185700",
     "exception": false,
     "start_time": "2025-05-22T12:47:24.157172",
     "status": "completed"
    },
    "tags": []
   },
   "outputs": [
    {
     "name": "stdout",
     "output_type": "stream",
     "text": [
      "[[1 2 2]\n",
      " [0 1 2]\n",
      " [1 0 1]] 1 player=1\n",
      "[[2 1 2]\n",
      " [1 1 2]\n",
      " [0 1 0]] 1 player=1\n",
      "[[1 1 2]\n",
      " [1 2 2]\n",
      " [2 1 1]] 0 player=1\n",
      "[[1 1 2]\n",
      " [0 1 0]\n",
      " [2 1 2]] 1 player=1\n",
      "[[0 0 2]\n",
      " [1 1 2]\n",
      " [0 1 2]] 1 player=2\n",
      "[[1 2 2]\n",
      " [1 1 1]\n",
      " [2 1 2]] 1 player=1\n",
      "[[2 0 1]\n",
      " [2 0 1]\n",
      " [0 0 1]] 1 player=1\n",
      "[[2 2 1]\n",
      " [1 1 2]\n",
      " [1 1 2]] 0 player=1\n",
      "[[2 2 0]\n",
      " [2 1 1]\n",
      " [2 1 1]] 1 player=2\n",
      "[[1 1 0]\n",
      " [2 1 1]\n",
      " [2 2 2]] 1 player=2\n",
      "Player 1 won 5 games. Player 2 won 3\n"
     ]
    }
   ],
   "source": [
    "import random\n",
    "env = tictactoe()\n",
    "\n",
    "player1 = random_agent()\n",
    "player2 = random_agent()\n",
    "\n",
    "score_player1 = 0\n",
    "score_player2 = 0\n",
    "for i in range(10):\n",
    "    done = False\n",
    "    env.reset()\n",
    "    while not done:\n",
    "        action = player1.action(env)\n",
    "        observation, reward, trunc, term = env.step(action)\n",
    "        if trunc:\n",
    "            done = True\n",
    "            score_player1+=reward\n",
    "            print(observation, reward, 'player=1')\n",
    "            break\n",
    "        action = player2.action(env)\n",
    "        observation, reward, trunc, term = env.step(action)\n",
    "        if trunc:\n",
    "            done = True\n",
    "            score_player2+=reward\n",
    "            print(observation, reward, 'player=2')\n",
    "print('Player 1 won',score_player1, 'games. Player 2 won', score_player2)"
   ]
  },
  {
   "cell_type": "code",
   "execution_count": 5,
   "id": "76245c94",
   "metadata": {
    "execution": {
     "iopub.execute_input": "2025-05-22T12:47:24.194869Z",
     "iopub.status.busy": "2025-05-22T12:47:24.194483Z",
     "iopub.status.idle": "2025-05-22T12:47:24.203306Z",
     "shell.execute_reply": "2025-05-22T12:47:24.202123Z"
    },
    "papermill": {
     "duration": 0.015207,
     "end_time": "2025-05-22T12:47:24.204817",
     "exception": false,
     "start_time": "2025-05-22T12:47:24.189610",
     "status": "completed"
    },
    "tags": []
   },
   "outputs": [],
   "source": [
    "class Qlearner1():\n",
    "    def __init__(self, epsilon):\n",
    "        self.Q_table = {}\n",
    "        self.epsilon = epsilon\n",
    "\n",
    "    def convert_to_tuple(self,observation):\n",
    "        return tuple(tuple(row) for row in observation.tolist())\n",
    "    def action(self,env):\n",
    "        observation = env.observation\n",
    "        observation= self.convert_to_tuple(observation)\n",
    "        if observation not in self.Q_table:\n",
    "            possible_actions = []\n",
    "            for i in range(9):\n",
    "                if observation[i//3][i%3] == 0:\n",
    "                    possible_actions.append(i)\n",
    "            self.Q_table[observation] = {action : 0 \n",
    "                                         for action in possible_actions}\n",
    "            return np.random.choice(possible_actions)\n",
    "        else:\n",
    "            actions = list(self.Q_table[observation].keys())\n",
    "            probs = np.array(list(self.Q_table[observation].values()))\n",
    "            probs = np.exp(probs)\n",
    "            total = sum(probs)\n",
    "            probs = probs/total\n",
    "            return np.random.choice(actions,p = probs)\n",
    "            \n",
    "            "
   ]
  },
  {
   "cell_type": "code",
   "execution_count": 6,
   "id": "1e7c627f",
   "metadata": {
    "execution": {
     "iopub.execute_input": "2025-05-22T12:47:24.213205Z",
     "iopub.status.busy": "2025-05-22T12:47:24.212891Z",
     "iopub.status.idle": "2025-05-22T12:47:24.221206Z",
     "shell.execute_reply": "2025-05-22T12:47:24.220273Z"
    },
    "papermill": {
     "duration": 0.014174,
     "end_time": "2025-05-22T12:47:24.222727",
     "exception": false,
     "start_time": "2025-05-22T12:47:24.208553",
     "status": "completed"
    },
    "tags": []
   },
   "outputs": [],
   "source": [
    "class Qlearner2():\n",
    "    def __init__(self, epsilon):\n",
    "        self.Q_table = {}\n",
    "        self.epsilon = epsilon\n",
    "\n",
    "    def convert_to_tuple(self,observation):\n",
    "        return tuple(tuple(row) for row in observation.tolist())\n",
    "    def action(self,env):\n",
    "        observation = env.observation\n",
    "        observation= self.convert_to_tuple(observation)\n",
    "        if observation not in self.Q_table:\n",
    "            possible_actions = []\n",
    "            for i in range(9):\n",
    "                if observation[i//3][i%3] == 0:\n",
    "                    possible_actions.append(i)\n",
    "            self.Q_table[observation] = {action : 0 \n",
    "                                         for action in possible_actions}\n",
    "            return np.random.choice(possible_actions)\n",
    "        else:\n",
    "            actions = list(self.Q_table[observation].keys())\n",
    "            probs = np.array(list(self.Q_table[observation].values()))\n",
    "            probs = np.exp(probs)\n",
    "            total = sum(probs)\n",
    "            probs = probs/total\n",
    "            return np.random.choice(actions,p = probs)\n",
    "                "
   ]
  },
  {
   "cell_type": "code",
   "execution_count": 7,
   "id": "b34bb31b",
   "metadata": {
    "execution": {
     "iopub.execute_input": "2025-05-22T12:47:24.231432Z",
     "iopub.status.busy": "2025-05-22T12:47:24.231071Z",
     "iopub.status.idle": "2025-05-22T12:47:30.902303Z",
     "shell.execute_reply": "2025-05-22T12:47:30.900928Z"
    },
    "papermill": {
     "duration": 6.677916,
     "end_time": "2025-05-22T12:47:30.904341",
     "exception": false,
     "start_time": "2025-05-22T12:47:24.226425",
     "status": "completed"
    },
    "tags": []
   },
   "outputs": [],
   "source": [
    "lr = 0.1\n",
    "player1 = Qlearner1(epsilon = 0.1)\n",
    "player2 = Qlearner2(epsilon = 0.1)\n",
    "env = tictactoe()\n",
    "done = False\n",
    "game_score = {1 : 0, 2: 0}\n",
    "for i in range(10000):\n",
    "    done = False\n",
    "    env.reset()\n",
    "    player1_pairs = []\n",
    "    player2_pairs = []\n",
    "    while not done:\n",
    "        action1 = player1.action(env)\n",
    "        obs1 = player1.convert_to_tuple(env.observation)\n",
    "        player1_pairs.append((obs1,action1))\n",
    "        observation2, reward, done, _ = env.step(action1)\n",
    "        if done:    \n",
    "            if reward == 0:\n",
    "                winner = 0\n",
    "            else:\n",
    "                winner = 1\n",
    "                game_score[1]+=1\n",
    "            break\n",
    "        action2 = player2.action(env)\n",
    "        obs2 = player2.convert_to_tuple(env.observation)\n",
    "        player2_pairs.append((obs2,action2))\n",
    "        observation1, reward, done, _ = env.step(action2)\n",
    "        if done:\n",
    "            if reward == 0:\n",
    "                winner = 0\n",
    "            else:\n",
    "                winner = 2\n",
    "                game_score[2]+=1\n",
    "    if winner == 1:\n",
    "        for obs, action in player1_pairs:\n",
    "            player1.Q_table[obs][action]+= lr*(1-player1.Q_table[obs][action])\n",
    "        for obs, action in player2_pairs:\n",
    "            player2.Q_table[obs][action]+= lr*(-1-player2.Q_table[obs][action])\n",
    "    if winner == 2:\n",
    "        for obs, action in player1_pairs:\n",
    "            player1.Q_table[obs][action]+= lr*(-1-player1.Q_table[obs][action])\n",
    "        for obs, action in player2_pairs:\n",
    "            player2.Q_table[obs][action]+= lr*(1-player2.Q_table[obs][action])\n",
    "\n"
   ]
  },
  {
   "cell_type": "code",
   "execution_count": 8,
   "id": "a960a52d",
   "metadata": {
    "execution": {
     "iopub.execute_input": "2025-05-22T12:47:30.913040Z",
     "iopub.status.busy": "2025-05-22T12:47:30.912727Z",
     "iopub.status.idle": "2025-05-22T12:47:30.917948Z",
     "shell.execute_reply": "2025-05-22T12:47:30.917028Z"
    },
    "papermill": {
     "duration": 0.01146,
     "end_time": "2025-05-22T12:47:30.919532",
     "exception": false,
     "start_time": "2025-05-22T12:47:30.908072",
     "status": "completed"
    },
    "tags": []
   },
   "outputs": [
    {
     "name": "stdout",
     "output_type": "stream",
     "text": [
      "{1: 5219, 2: 2446}\n"
     ]
    }
   ],
   "source": [
    "print(game_score)"
   ]
  },
  {
   "cell_type": "code",
   "execution_count": 9,
   "id": "e9128ece",
   "metadata": {
    "execution": {
     "iopub.execute_input": "2025-05-22T12:47:30.928056Z",
     "iopub.status.busy": "2025-05-22T12:47:30.927748Z",
     "iopub.status.idle": "2025-05-22T12:47:31.587218Z",
     "shell.execute_reply": "2025-05-22T12:47:31.586332Z"
    },
    "papermill": {
     "duration": 0.665779,
     "end_time": "2025-05-22T12:47:31.588972",
     "exception": false,
     "start_time": "2025-05-22T12:47:30.923193",
     "status": "completed"
    },
    "tags": []
   },
   "outputs": [
    {
     "name": "stdout",
     "output_type": "stream",
     "text": [
      "Player 1 won 543 games. Player 2 won 202\n"
     ]
    }
   ],
   "source": [
    "import random\n",
    "env = tictactoe()\n",
    "\n",
    "player2 = random_agent()\n",
    "\n",
    "score_player1 = 0\n",
    "score_player2 = 0\n",
    "for i in range(1000):\n",
    "    done = False\n",
    "    env.reset()\n",
    "    while not done:\n",
    "        action = player1.action(env)\n",
    "        observation, reward, trunc, term = env.step(action)\n",
    "        if trunc:\n",
    "            done = True\n",
    "            score_player1+=reward\n",
    "            break\n",
    "        action = player2.action(env)\n",
    "        observation, reward, trunc, term = env.step(action)\n",
    "        if trunc:\n",
    "            done = True\n",
    "            score_player2+=reward\n",
    "print('Player 1 won',score_player1, 'games. Player 2 won', score_player2)"
   ]
  },
  {
   "cell_type": "markdown",
   "id": "a0bde631",
   "metadata": {
    "papermill": {
     "duration": 0.003834,
     "end_time": "2025-05-22T12:47:31.596650",
     "exception": false,
     "start_time": "2025-05-22T12:47:31.592816",
     "status": "completed"
    },
    "tags": []
   },
   "source": [
    "Our Q_learner does better than random agent, but it's not perfect. How to make it perfect? "
   ]
  },
  {
   "cell_type": "code",
   "execution_count": 10,
   "id": "3314e7db",
   "metadata": {
    "execution": {
     "iopub.execute_input": "2025-05-22T12:47:31.605562Z",
     "iopub.status.busy": "2025-05-22T12:47:31.605184Z",
     "iopub.status.idle": "2025-05-22T12:47:59.671779Z",
     "shell.execute_reply": "2025-05-22T12:47:59.670972Z"
    },
    "papermill": {
     "duration": 28.073109,
     "end_time": "2025-05-22T12:47:59.673485",
     "exception": false,
     "start_time": "2025-05-22T12:47:31.600376",
     "status": "completed"
    },
    "tags": []
   },
   "outputs": [],
   "source": [
    "lr = 0.1\n",
    "player1 = Qlearner1(epsilon = 0.1)\n",
    "player2 = random_agent()\n",
    "env = tictactoe()\n",
    "done = False\n",
    "game_score = {1 : 0, 2: 0}\n",
    "for i in range(50000):\n",
    "    done = False\n",
    "    env.reset()\n",
    "    player1_pairs = []\n",
    "    player2_pairs = []\n",
    "    while not done:\n",
    "        action1 = player1.action(env)\n",
    "        obs1 = player1.convert_to_tuple(env.observation)\n",
    "        player1_pairs.append((obs1,action1))\n",
    "        observation2, reward, done, _ = env.step(action1)\n",
    "        if done:    \n",
    "            if reward == 0:\n",
    "                winner = 0\n",
    "            else:\n",
    "                winner = 1\n",
    "                game_score[1]+=1\n",
    "            break\n",
    "        action2 = player2.action(env)\n",
    "        obs2 = player1.convert_to_tuple(env.observation)\n",
    "        player2_pairs.append((obs2,action2))\n",
    "        observation1, reward, done, _ = env.step(action2)\n",
    "        if done:\n",
    "            if reward == 0:\n",
    "                winner = 0\n",
    "            else:\n",
    "                winner = 2\n",
    "                game_score[2]+=1\n",
    "    if winner == 1:\n",
    "        for obs, action in player1_pairs:\n",
    "            player1.Q_table[obs][action]+= lr*(1-player1.Q_table[obs][action])\n",
    "    if winner == 2:\n",
    "        for obs, action in player1_pairs:\n",
    "            player1.Q_table[obs][action]+= lr*(-1-player1.Q_table[obs][action])\n",
    "\n",
    "\n"
   ]
  },
  {
   "cell_type": "code",
   "execution_count": 11,
   "id": "c2f36ef1",
   "metadata": {
    "execution": {
     "iopub.execute_input": "2025-05-22T12:47:59.682068Z",
     "iopub.status.busy": "2025-05-22T12:47:59.681732Z",
     "iopub.status.idle": "2025-05-22T12:47:59.686797Z",
     "shell.execute_reply": "2025-05-22T12:47:59.685795Z"
    },
    "papermill": {
     "duration": 0.011131,
     "end_time": "2025-05-22T12:47:59.688355",
     "exception": false,
     "start_time": "2025-05-22T12:47:59.677224",
     "status": "completed"
    },
    "tags": []
   },
   "outputs": [
    {
     "name": "stdout",
     "output_type": "stream",
     "text": [
      "{1: 29706, 2: 9187}\n"
     ]
    }
   ],
   "source": [
    "print(game_score)"
   ]
  },
  {
   "cell_type": "code",
   "execution_count": 12,
   "id": "9b275b9c",
   "metadata": {
    "execution": {
     "iopub.execute_input": "2025-05-22T12:47:59.697024Z",
     "iopub.status.busy": "2025-05-22T12:47:59.696739Z",
     "iopub.status.idle": "2025-05-22T12:48:00.282374Z",
     "shell.execute_reply": "2025-05-22T12:48:00.281288Z"
    },
    "papermill": {
     "duration": 0.591908,
     "end_time": "2025-05-22T12:48:00.284190",
     "exception": false,
     "start_time": "2025-05-22T12:47:59.692282",
     "status": "completed"
    },
    "tags": []
   },
   "outputs": [
    {
     "name": "stdout",
     "output_type": "stream",
     "text": [
      "Player 1 won 650 games. Player 2 won 145\n"
     ]
    }
   ],
   "source": [
    "import random\n",
    "env = tictactoe()\n",
    "\n",
    "player2 = random_agent()\n",
    "\n",
    "score_player1 = 0\n",
    "score_player2 = 0\n",
    "for i in range(1000):\n",
    "    done = False\n",
    "    env.reset()\n",
    "    while not done:\n",
    "        action = player1.action(env)\n",
    "        observation, reward, trunc, term = env.step(action)\n",
    "        if trunc:\n",
    "            done = True\n",
    "            score_player1+=reward\n",
    "            break\n",
    "        action = player2.action(env)\n",
    "        observation, reward, trunc, term = env.step(action)\n",
    "        if trunc:\n",
    "            done = True\n",
    "            score_player2+=reward\n",
    "print('Player 1 won',score_player1, 'games. Player 2 won', score_player2)"
   ]
  },
  {
   "cell_type": "markdown",
   "id": "ec51e999",
   "metadata": {
    "papermill": {
     "duration": 0.003522,
     "end_time": "2025-05-22T12:48:00.291444",
     "exception": false,
     "start_time": "2025-05-22T12:48:00.287922",
     "status": "completed"
    },
    "tags": []
   },
   "source": [
    "The Q_learner that learned against random agent also performs similarly. We could write code that explores it more systematically, how does various parameters change the experience. "
   ]
  },
  {
   "cell_type": "code",
   "execution_count": null,
   "id": "2cc70674",
   "metadata": {
    "papermill": {
     "duration": 0.003456,
     "end_time": "2025-05-22T12:48:00.298580",
     "exception": false,
     "start_time": "2025-05-22T12:48:00.295124",
     "status": "completed"
    },
    "tags": []
   },
   "outputs": [],
   "source": []
  }
 ],
 "metadata": {
  "kaggle": {
   "accelerator": "none",
   "dataSources": [],
   "dockerImageVersionId": 31040,
   "isGpuEnabled": false,
   "isInternetEnabled": true,
   "language": "python",
   "sourceType": "notebook"
  },
  "kernelspec": {
   "display_name": "Python 3",
   "language": "python",
   "name": "python3"
  },
  "language_info": {
   "codemirror_mode": {
    "name": "ipython",
    "version": 3
   },
   "file_extension": ".py",
   "mimetype": "text/x-python",
   "name": "python",
   "nbconvert_exporter": "python",
   "pygments_lexer": "ipython3",
   "version": "3.11.11"
  },
  "papermill": {
   "default_parameters": {},
   "duration": 43.391857,
   "end_time": "2025-05-22T12:48:00.823382",
   "environment_variables": {},
   "exception": null,
   "input_path": "__notebook__.ipynb",
   "output_path": "__notebook__.ipynb",
   "parameters": {},
   "start_time": "2025-05-22T12:47:17.431525",
   "version": "2.6.0"
  }
 },
 "nbformat": 4,
 "nbformat_minor": 5
}
